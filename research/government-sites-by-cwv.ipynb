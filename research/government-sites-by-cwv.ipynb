{
 "cells": [
  {
   "metadata": {},
   "cell_type": "markdown",
   "source": [
    "# Ranking per origin\n",
    "\n",
    "Here, we're examining individual origins based on the Chrome User Experience (CrUX) Report. The scope is limited to the origins contained in the site scanning report from the export the week of July 22, 2024 who are also present in the CrUX data set and limiting it to mobile data."
   ],
   "id": "d19bba763a0ebfb5"
  },
  {
   "metadata": {
    "ExecuteTime": {
     "end_time": "2024-07-30T18:04:47.751018Z",
     "start_time": "2024-07-30T18:04:47.733909Z"
    }
   },
   "cell_type": "code",
   "source": [
    "import os\n",
    "import pandas as pd\n",
    "\n",
    "notebook_dir = os.getcwd()\n",
    "\n",
    "def load_results_to_dataframe(file_name, index_on, sort_by, form_factor):\n",
    "    file_path = os.path.join(notebook_dir, file_name)\n",
    "    df = pd.read_csv(file_path)\n",
    "    df = df[df['name'] == form_factor].sort_values(by=sort_by, ascending=False)\n",
    "    df.reset_index()\n",
    "    df.set_index(index_on, inplace=True)\n",
    "    return df"
   ],
   "id": "initial_id",
   "outputs": [],
   "execution_count": 58
  },
  {
   "metadata": {
    "ExecuteTime": {
     "end_time": "2024-07-30T18:04:47.854221Z",
     "start_time": "2024-07-30T18:04:47.803619Z"
    }
   },
   "cell_type": "code",
   "source": [
    "lcp = load_results_to_dataframe('data/lcp-by-origin.csv', 'origin', 'pct_not_fast_lcp', 'phone')\n",
    "lcp = lcp.where(lcp['pct_not_fast_lcp'] > 0.25).dropna(how='any')\n",
    "lcp.head(500)"
   ],
   "id": "1fd1f577042d4a95",
   "outputs": [
    {
     "data": {
      "text/plain": [
       "                                   pct_not_fast_lcp   name\n",
       "origin                                                    \n",
       "https://vinelink.dhs.gov                     0.8813  phone\n",
       "https://ask.usda.gov                         0.7459  phone\n",
       "https://ye.usembassy.gov                     0.6708  phone\n",
       "https://www.usadf.gov                        0.6611  phone\n",
       "https://locator.ice.gov                      0.6610  phone\n",
       "...                                             ...    ...\n",
       "https://tidesandcurrents.noaa.gov            0.2512  phone\n",
       "https://www.stemgateway.nasa.gov             0.2508  phone\n",
       "https://dk.usembassy.gov                     0.2505  phone\n",
       "https://www.fvap.gov                         0.2504  phone\n",
       "https://www.5af.pacaf.af.mil                 0.2501  phone\n",
       "\n",
       "[318 rows x 2 columns]"
      ],
      "text/html": [
       "<div>\n",
       "<style scoped>\n",
       "    .dataframe tbody tr th:only-of-type {\n",
       "        vertical-align: middle;\n",
       "    }\n",
       "\n",
       "    .dataframe tbody tr th {\n",
       "        vertical-align: top;\n",
       "    }\n",
       "\n",
       "    .dataframe thead th {\n",
       "        text-align: right;\n",
       "    }\n",
       "</style>\n",
       "<table border=\"1\" class=\"dataframe\">\n",
       "  <thead>\n",
       "    <tr style=\"text-align: right;\">\n",
       "      <th></th>\n",
       "      <th>pct_not_fast_lcp</th>\n",
       "      <th>name</th>\n",
       "    </tr>\n",
       "    <tr>\n",
       "      <th>origin</th>\n",
       "      <th></th>\n",
       "      <th></th>\n",
       "    </tr>\n",
       "  </thead>\n",
       "  <tbody>\n",
       "    <tr>\n",
       "      <th>https://vinelink.dhs.gov</th>\n",
       "      <td>0.8813</td>\n",
       "      <td>phone</td>\n",
       "    </tr>\n",
       "    <tr>\n",
       "      <th>https://ask.usda.gov</th>\n",
       "      <td>0.7459</td>\n",
       "      <td>phone</td>\n",
       "    </tr>\n",
       "    <tr>\n",
       "      <th>https://ye.usembassy.gov</th>\n",
       "      <td>0.6708</td>\n",
       "      <td>phone</td>\n",
       "    </tr>\n",
       "    <tr>\n",
       "      <th>https://www.usadf.gov</th>\n",
       "      <td>0.6611</td>\n",
       "      <td>phone</td>\n",
       "    </tr>\n",
       "    <tr>\n",
       "      <th>https://locator.ice.gov</th>\n",
       "      <td>0.6610</td>\n",
       "      <td>phone</td>\n",
       "    </tr>\n",
       "    <tr>\n",
       "      <th>...</th>\n",
       "      <td>...</td>\n",
       "      <td>...</td>\n",
       "    </tr>\n",
       "    <tr>\n",
       "      <th>https://tidesandcurrents.noaa.gov</th>\n",
       "      <td>0.2512</td>\n",
       "      <td>phone</td>\n",
       "    </tr>\n",
       "    <tr>\n",
       "      <th>https://www.stemgateway.nasa.gov</th>\n",
       "      <td>0.2508</td>\n",
       "      <td>phone</td>\n",
       "    </tr>\n",
       "    <tr>\n",
       "      <th>https://dk.usembassy.gov</th>\n",
       "      <td>0.2505</td>\n",
       "      <td>phone</td>\n",
       "    </tr>\n",
       "    <tr>\n",
       "      <th>https://www.fvap.gov</th>\n",
       "      <td>0.2504</td>\n",
       "      <td>phone</td>\n",
       "    </tr>\n",
       "    <tr>\n",
       "      <th>https://www.5af.pacaf.af.mil</th>\n",
       "      <td>0.2501</td>\n",
       "      <td>phone</td>\n",
       "    </tr>\n",
       "  </tbody>\n",
       "</table>\n",
       "<p>318 rows × 2 columns</p>\n",
       "</div>"
      ]
     },
     "execution_count": 59,
     "metadata": {},
     "output_type": "execute_result"
    }
   ],
   "execution_count": 59
  },
  {
   "metadata": {
    "ExecuteTime": {
     "end_time": "2024-07-30T18:04:47.862223Z",
     "start_time": "2024-07-30T18:04:47.854221Z"
    }
   },
   "cell_type": "code",
   "source": "",
   "id": "8fc766dbe25a1066",
   "outputs": [],
   "execution_count": 59
  }
 ],
 "metadata": {
  "kernelspec": {
   "display_name": "Python 3",
   "language": "python",
   "name": "python3"
  },
  "language_info": {
   "codemirror_mode": {
    "name": "ipython",
    "version": 2
   },
   "file_extension": ".py",
   "mimetype": "text/x-python",
   "name": "python",
   "nbconvert_exporter": "python",
   "pygments_lexer": "ipython2",
   "version": "2.7.6"
  }
 },
 "nbformat": 4,
 "nbformat_minor": 5
}
