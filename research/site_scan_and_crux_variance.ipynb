{
 "cells": [
  {
   "metadata": {},
   "cell_type": "markdown",
   "source": [
    "# Is there variance in Site Scanning and the Chrome User Experience Report (CrUX)?\n",
    "\n",
    "Here, we look at the difference between CrUX data that reports the p75 values of the Core Web Vitals at the origin level and the results from the synthetic performance testing data from the Site Scanning report.\n",
    "\n",
    "We learned during our interviews that most of the traffic on a site originates from search and not from the home page. Seeing what real users are experiencing at the origin-level may help illuminate other opportunities where performance was believed to be good based on the site scan but the real user data tells a different story."
   ],
   "id": "d19bba763a0ebfb5"
  },
  {
   "metadata": {
    "ExecuteTime": {
     "end_time": "2024-09-09T18:57:59.828788Z",
     "start_time": "2024-09-09T18:57:59.824560Z"
    }
   },
   "cell_type": "code",
   "source": [
    "\"\"\"\n",
    "Loads result to dataframe and analyzes the results\n",
    "\"\"\"\n",
    "\n",
    "import os\n",
    "import pandas as pd\n",
    "import matplotlib.pyplot as plt\n",
    "from format_urls.load_results_to_dataframe import load_results_to_dataframe\n",
    "\n",
    "notebook_dir = os.getcwd()"
   ],
   "id": "initial_id",
   "outputs": [],
   "execution_count": 10
  },
  {
   "metadata": {
    "ExecuteTime": {
     "end_time": "2024-09-09T18:58:00.161533Z",
     "start_time": "2024-09-09T18:57:59.858573Z"
    }
   },
   "cell_type": "code",
   "source": [
    "crux = load_results_to_dataframe(\n",
    "    file_name=\"data/crux-data-202407.csv\", notebook_dir=notebook_dir\n",
    ")\n",
    "\n",
    "sitescanning = load_results_to_dataframe(\n",
    "    file_name=\"data/site-scanning-weekly-snapshot-20240722.csv\",\n",
    "    notebook_dir=notebook_dir,\n",
    ")\n",
    "\n",
    "sitescanning[\"final_url_website\"] = \"https://\" + sitescanning[\"final_url_website\"]\n",
    "\n",
    "merged_df = pd.merge(sitescanning, crux, left_on=\"final_url_website\", right_on=\"origin\")\n",
    "required_columns = [\n",
    "    \"origin\",\n",
    "    \"p75_lcp\",\n",
    "    \"largest_contentful_paint\",\n",
    "    \"p75_cls\",\n",
    "    \"cumulative_layout_shift\",\n",
    "    \"p75_inp\",\n",
    "]\n",
    "merged_df.drop_duplicates(subset=\"origin\", keep=\"first\", inplace=True)\n",
    "merged_df = merged_df[required_columns].dropna()\n",
    "merged_df.rename(\n",
    "    columns={\n",
    "        \"p75_lcp\": \"lcp_crux_p75\",\n",
    "        \"p75_cls\": \"cls_crux_p75\",\n",
    "        \"largest_contentful_paint\": \"lcp_site_scanning\",\n",
    "        \"cumulative_layout_shift\": \"cls_site_scanning\",\n",
    "    },\n",
    "    inplace=True,\n",
    ")\n",
    "merged_df[\"lcp_difference_crux_vs_scan\"] = (\n",
    "    merged_df[\"lcp_crux_p75\"] - merged_df[\"lcp_site_scanning\"]\n",
    ")\n",
    "merged_df[\"cls_difference_crux_vs_scan\"] = (\n",
    "    merged_df[\"cls_crux_p75\"] - merged_df[\"cls_site_scanning\"]\n",
    ")\n",
    "merged_df[\"lcp_abs_difference_crux_vs_scan\"] = abs(\n",
    "    merged_df[\"lcp_crux_p75\"] - merged_df[\"lcp_site_scanning\"]\n",
    ")\n",
    "merged_df[\"cls_abs_difference_crux_vs_scan\"] = abs(\n",
    "    merged_df[\"cls_crux_p75\"] - merged_df[\"cls_site_scanning\"]\n",
    ")\n",
    "\n",
    "merged_df.sort_values(by=\"lcp_abs_difference_crux_vs_scan\", ascending=False)"
   ],
   "id": "1fd1f577042d4a95",
   "outputs": [
    {
     "data": {
      "text/plain": [
       "                                     origin  lcp_crux_p75  lcp_site_scanning  \\\n",
       "5417                   https://apps.nea.gov       23800.0            107.100   \n",
       "6817            https://invitation.nasa.gov        4200.0          26472.400   \n",
       "1143          https://passport.intelink.gov       20500.0           1286.399   \n",
       "8470                 https://crg.health.mil        5600.0          23345.399   \n",
       "2221  https://cce-datasharing.gsfc.nasa.gov        4600.0          21531.400   \n",
       "...                                     ...           ...                ...   \n",
       "5062                 https://mypaa.pbgc.gov        1400.0           1403.600   \n",
       "923         https://gravelocator.cem.va.gov         900.0            896.500   \n",
       "1666                    https://nyw.cap.gov         400.0            401.700   \n",
       "2750          https://fhwaapps.fhwa.dot.gov        2700.0           2698.600   \n",
       "428           https://www.wpc.ncep.noaa.gov        1000.0            999.000   \n",
       "\n",
       "      cls_crux_p75  cls_site_scanning  p75_inp  lcp_difference_crux_vs_scan  \\\n",
       "5417           0.0           0.000000    125.0                    23692.900   \n",
       "6817           0.0           0.000045     75.0                   -22272.400   \n",
       "1143           0.0           0.038292     25.0                    19213.601   \n",
       "8470           0.0           0.000000     75.0                   -17745.399   \n",
       "2221           0.0           0.000000     50.0                   -16931.400   \n",
       "...            ...                ...      ...                          ...   \n",
       "5062           0.1           0.000609     25.0                       -3.600   \n",
       "923            0.0           0.000000     75.0                        3.500   \n",
       "1666           0.0           0.008690     50.0                       -1.700   \n",
       "2750           0.0           0.000000     25.0                        1.400   \n",
       "428            0.0           0.044545    250.0                        1.000   \n",
       "\n",
       "      cls_difference_crux_vs_scan  lcp_abs_difference_crux_vs_scan  \\\n",
       "5417                     0.000000                        23692.900   \n",
       "6817                    -0.000045                        22272.400   \n",
       "1143                    -0.038292                        19213.601   \n",
       "8470                     0.000000                        17745.399   \n",
       "2221                     0.000000                        16931.400   \n",
       "...                           ...                              ...   \n",
       "5062                     0.099391                            3.600   \n",
       "923                      0.000000                            3.500   \n",
       "1666                    -0.008690                            1.700   \n",
       "2750                     0.000000                            1.400   \n",
       "428                     -0.044545                            1.000   \n",
       "\n",
       "      cls_abs_difference_crux_vs_scan  \n",
       "5417                         0.000000  \n",
       "6817                         0.000045  \n",
       "1143                         0.038292  \n",
       "8470                         0.000000  \n",
       "2221                         0.000000  \n",
       "...                               ...  \n",
       "5062                         0.099391  \n",
       "923                          0.000000  \n",
       "1666                         0.008690  \n",
       "2750                         0.000000  \n",
       "428                          0.044545  \n",
       "\n",
       "[4326 rows x 10 columns]"
      ],
      "text/html": [
       "<div>\n",
       "<style scoped>\n",
       "    .dataframe tbody tr th:only-of-type {\n",
       "        vertical-align: middle;\n",
       "    }\n",
       "\n",
       "    .dataframe tbody tr th {\n",
       "        vertical-align: top;\n",
       "    }\n",
       "\n",
       "    .dataframe thead th {\n",
       "        text-align: right;\n",
       "    }\n",
       "</style>\n",
       "<table border=\"1\" class=\"dataframe\">\n",
       "  <thead>\n",
       "    <tr style=\"text-align: right;\">\n",
       "      <th></th>\n",
       "      <th>origin</th>\n",
       "      <th>lcp_crux_p75</th>\n",
       "      <th>lcp_site_scanning</th>\n",
       "      <th>cls_crux_p75</th>\n",
       "      <th>cls_site_scanning</th>\n",
       "      <th>p75_inp</th>\n",
       "      <th>lcp_difference_crux_vs_scan</th>\n",
       "      <th>cls_difference_crux_vs_scan</th>\n",
       "      <th>lcp_abs_difference_crux_vs_scan</th>\n",
       "      <th>cls_abs_difference_crux_vs_scan</th>\n",
       "    </tr>\n",
       "  </thead>\n",
       "  <tbody>\n",
       "    <tr>\n",
       "      <th>5417</th>\n",
       "      <td>https://apps.nea.gov</td>\n",
       "      <td>23800.0</td>\n",
       "      <td>107.100</td>\n",
       "      <td>0.0</td>\n",
       "      <td>0.000000</td>\n",
       "      <td>125.0</td>\n",
       "      <td>23692.900</td>\n",
       "      <td>0.000000</td>\n",
       "      <td>23692.900</td>\n",
       "      <td>0.000000</td>\n",
       "    </tr>\n",
       "    <tr>\n",
       "      <th>6817</th>\n",
       "      <td>https://invitation.nasa.gov</td>\n",
       "      <td>4200.0</td>\n",
       "      <td>26472.400</td>\n",
       "      <td>0.0</td>\n",
       "      <td>0.000045</td>\n",
       "      <td>75.0</td>\n",
       "      <td>-22272.400</td>\n",
       "      <td>-0.000045</td>\n",
       "      <td>22272.400</td>\n",
       "      <td>0.000045</td>\n",
       "    </tr>\n",
       "    <tr>\n",
       "      <th>1143</th>\n",
       "      <td>https://passport.intelink.gov</td>\n",
       "      <td>20500.0</td>\n",
       "      <td>1286.399</td>\n",
       "      <td>0.0</td>\n",
       "      <td>0.038292</td>\n",
       "      <td>25.0</td>\n",
       "      <td>19213.601</td>\n",
       "      <td>-0.038292</td>\n",
       "      <td>19213.601</td>\n",
       "      <td>0.038292</td>\n",
       "    </tr>\n",
       "    <tr>\n",
       "      <th>8470</th>\n",
       "      <td>https://crg.health.mil</td>\n",
       "      <td>5600.0</td>\n",
       "      <td>23345.399</td>\n",
       "      <td>0.0</td>\n",
       "      <td>0.000000</td>\n",
       "      <td>75.0</td>\n",
       "      <td>-17745.399</td>\n",
       "      <td>0.000000</td>\n",
       "      <td>17745.399</td>\n",
       "      <td>0.000000</td>\n",
       "    </tr>\n",
       "    <tr>\n",
       "      <th>2221</th>\n",
       "      <td>https://cce-datasharing.gsfc.nasa.gov</td>\n",
       "      <td>4600.0</td>\n",
       "      <td>21531.400</td>\n",
       "      <td>0.0</td>\n",
       "      <td>0.000000</td>\n",
       "      <td>50.0</td>\n",
       "      <td>-16931.400</td>\n",
       "      <td>0.000000</td>\n",
       "      <td>16931.400</td>\n",
       "      <td>0.000000</td>\n",
       "    </tr>\n",
       "    <tr>\n",
       "      <th>...</th>\n",
       "      <td>...</td>\n",
       "      <td>...</td>\n",
       "      <td>...</td>\n",
       "      <td>...</td>\n",
       "      <td>...</td>\n",
       "      <td>...</td>\n",
       "      <td>...</td>\n",
       "      <td>...</td>\n",
       "      <td>...</td>\n",
       "      <td>...</td>\n",
       "    </tr>\n",
       "    <tr>\n",
       "      <th>5062</th>\n",
       "      <td>https://mypaa.pbgc.gov</td>\n",
       "      <td>1400.0</td>\n",
       "      <td>1403.600</td>\n",
       "      <td>0.1</td>\n",
       "      <td>0.000609</td>\n",
       "      <td>25.0</td>\n",
       "      <td>-3.600</td>\n",
       "      <td>0.099391</td>\n",
       "      <td>3.600</td>\n",
       "      <td>0.099391</td>\n",
       "    </tr>\n",
       "    <tr>\n",
       "      <th>923</th>\n",
       "      <td>https://gravelocator.cem.va.gov</td>\n",
       "      <td>900.0</td>\n",
       "      <td>896.500</td>\n",
       "      <td>0.0</td>\n",
       "      <td>0.000000</td>\n",
       "      <td>75.0</td>\n",
       "      <td>3.500</td>\n",
       "      <td>0.000000</td>\n",
       "      <td>3.500</td>\n",
       "      <td>0.000000</td>\n",
       "    </tr>\n",
       "    <tr>\n",
       "      <th>1666</th>\n",
       "      <td>https://nyw.cap.gov</td>\n",
       "      <td>400.0</td>\n",
       "      <td>401.700</td>\n",
       "      <td>0.0</td>\n",
       "      <td>0.008690</td>\n",
       "      <td>50.0</td>\n",
       "      <td>-1.700</td>\n",
       "      <td>-0.008690</td>\n",
       "      <td>1.700</td>\n",
       "      <td>0.008690</td>\n",
       "    </tr>\n",
       "    <tr>\n",
       "      <th>2750</th>\n",
       "      <td>https://fhwaapps.fhwa.dot.gov</td>\n",
       "      <td>2700.0</td>\n",
       "      <td>2698.600</td>\n",
       "      <td>0.0</td>\n",
       "      <td>0.000000</td>\n",
       "      <td>25.0</td>\n",
       "      <td>1.400</td>\n",
       "      <td>0.000000</td>\n",
       "      <td>1.400</td>\n",
       "      <td>0.000000</td>\n",
       "    </tr>\n",
       "    <tr>\n",
       "      <th>428</th>\n",
       "      <td>https://www.wpc.ncep.noaa.gov</td>\n",
       "      <td>1000.0</td>\n",
       "      <td>999.000</td>\n",
       "      <td>0.0</td>\n",
       "      <td>0.044545</td>\n",
       "      <td>250.0</td>\n",
       "      <td>1.000</td>\n",
       "      <td>-0.044545</td>\n",
       "      <td>1.000</td>\n",
       "      <td>0.044545</td>\n",
       "    </tr>\n",
       "  </tbody>\n",
       "</table>\n",
       "<p>4326 rows × 10 columns</p>\n",
       "</div>"
      ]
     },
     "execution_count": 11,
     "metadata": {},
     "output_type": "execute_result"
    }
   ],
   "execution_count": 11
  },
  {
   "metadata": {},
   "cell_type": "markdown",
   "source": [
    "## Data differences\n",
    "\n",
    "A positive value for the mean or median difference in the below means that the values reported by the CrUX dataset were higher than the Site Scanning data, while a negative value for those columns indicates that the value reported by the Site Scanning data was higher."
   ],
   "id": "a0d5dfd4bf8c53f1"
  },
  {
   "metadata": {
    "ExecuteTime": {
     "end_time": "2024-09-09T18:58:00.172387Z",
     "start_time": "2024-09-09T18:58:00.163492Z"
    }
   },
   "cell_type": "code",
   "source": [
    "data = {\n",
    "    \"Measure\": [\"LCP\", \"CLS\"],\n",
    "    \"Mean Difference\": [\n",
    "        merged_df[\"lcp_difference_crux_vs_scan\"].mean(),\n",
    "        merged_df[\"cls_difference_crux_vs_scan\"].mean(),\n",
    "    ],\n",
    "    \"Median Difference\": [\n",
    "        merged_df[\"lcp_difference_crux_vs_scan\"].median(),\n",
    "        merged_df[\"cls_difference_crux_vs_scan\"].median(),\n",
    "    ],\n",
    "    \"Standard Deviation\": [\n",
    "        merged_df[\"lcp_difference_crux_vs_scan\"].std(),\n",
    "        merged_df[\"cls_difference_crux_vs_scan\"].std(),\n",
    "    ],\n",
    "}\n",
    "\n",
    "df = pd.DataFrame(data)\n",
    "df.head()"
   ],
   "id": "8fc766dbe25a1066",
   "outputs": [
    {
     "data": {
      "text/plain": [
       "  Measure  Mean Difference  Median Difference  Standard Deviation\n",
       "0     LCP      1321.805917        1154.501000         1532.328846\n",
       "1     CLS        -0.095793          -0.011766            0.278315"
      ],
      "text/html": [
       "<div>\n",
       "<style scoped>\n",
       "    .dataframe tbody tr th:only-of-type {\n",
       "        vertical-align: middle;\n",
       "    }\n",
       "\n",
       "    .dataframe tbody tr th {\n",
       "        vertical-align: top;\n",
       "    }\n",
       "\n",
       "    .dataframe thead th {\n",
       "        text-align: right;\n",
       "    }\n",
       "</style>\n",
       "<table border=\"1\" class=\"dataframe\">\n",
       "  <thead>\n",
       "    <tr style=\"text-align: right;\">\n",
       "      <th></th>\n",
       "      <th>Measure</th>\n",
       "      <th>Mean Difference</th>\n",
       "      <th>Median Difference</th>\n",
       "      <th>Standard Deviation</th>\n",
       "    </tr>\n",
       "  </thead>\n",
       "  <tbody>\n",
       "    <tr>\n",
       "      <th>0</th>\n",
       "      <td>LCP</td>\n",
       "      <td>1321.805917</td>\n",
       "      <td>1154.501000</td>\n",
       "      <td>1532.328846</td>\n",
       "    </tr>\n",
       "    <tr>\n",
       "      <th>1</th>\n",
       "      <td>CLS</td>\n",
       "      <td>-0.095793</td>\n",
       "      <td>-0.011766</td>\n",
       "      <td>0.278315</td>\n",
       "    </tr>\n",
       "  </tbody>\n",
       "</table>\n",
       "</div>"
      ]
     },
     "execution_count": 12,
     "metadata": {},
     "output_type": "execute_result"
    }
   ],
   "execution_count": 12
  },
  {
   "metadata": {
    "ExecuteTime": {
     "end_time": "2024-09-09T18:58:00.178652Z",
     "start_time": "2024-09-09T18:58:00.173798Z"
    }
   },
   "cell_type": "code",
   "source": [
    "def draw_cwv_data_boxplot(metric_column, metric_label, **kwargs):\n",
    "    \"\"\"Makes a box plot\"\"\"\n",
    "    plt.figure(figsize=(10, 6))\n",
    "    bp = plt.boxplot(metric_column, vert=False)\n",
    "    plt.title(f\"{metric_label} Difference CrUX vs Site Scanning\", fontsize=15)\n",
    "    plt.xlabel(f\"{metric_label} Difference CrUX vs Site Scanning\", fontsize=12)\n",
    "\n",
    "    for median in bp[\"medians\"]:\n",
    "        x, y = median.get_xydata()[1]  # top of the median line\n",
    "        plt.text(x, y, f\"{x:.3f}\", horizontalalignment=\"center\")  #\n",
    "\n",
    "    if \"file_name\" in kwargs:\n",
    "        plt.tight_layout()\n",
    "        plt.savefig(\n",
    "            kwargs[\"file_name\"], dpi=(kwargs[\"dpi\"] if \"dpi\" in kwargs else 300)\n",
    "        )\n",
    "\n",
    "    plt.show()"
   ],
   "id": "be7f226c26173bd6",
   "outputs": [],
   "execution_count": 13
  },
  {
   "metadata": {
    "ExecuteTime": {
     "end_time": "2024-09-09T18:58:00.301578Z",
     "start_time": "2024-09-09T18:58:00.180644Z"
    }
   },
   "cell_type": "code",
   "source": [
    "draw_cwv_data_boxplot(\n",
    "    merged_df[\"lcp_difference_crux_vs_scan\"],\n",
    "    \"Largest Contentful Paint\",\n",
    "    # file_name=\"./static/lcp-difference-crux-vs-scan.png\"\n",
    ")\n",
    "draw_cwv_data_boxplot(\n",
    "    merged_df[\"cls_difference_crux_vs_scan\"],\n",
    "    \"Cumulative Layout Shift\",\n",
    "    # file_name=\"./static/cls-difference-crux-vs-scan.png\"\n",
    ")"
   ],
   "id": "d02b5325612f1c10",
   "outputs": [
    {
     "data": {
      "text/plain": [
       "<Figure size 1000x600 with 1 Axes>"
      ],
      "image/png": "[encoded data removed]"
     },
     "metadata": {},
     "output_type": "display_data"
    },
    {
     "data": {
      "text/plain": [
       "<Figure size 1000x600 with 1 Axes>"
      ],
      "image/png": "[encoded data removed]"
     },
     "metadata": {},
     "output_type": "display_data"
    }
   ],
   "execution_count": 14
  },
  {
   "metadata": {},
   "cell_type": "markdown",
   "source": [
    "## Good on Lab, not in field\n",
    "\n",
    "Based on the differences in lab vs. field data, there are instances where the lab data indicates that the site is good but the field data tells another story."
   ],
   "id": "907c3115845610d5"
  },
  {
   "metadata": {
    "ExecuteTime": {
     "end_time": "2024-09-09T18:58:00.309330Z",
     "start_time": "2024-09-09T18:58:00.303905Z"
    }
   },
   "cell_type": "code",
   "source": [
    "field_lab_difference_lcp = merged_df[\n",
    "    (merged_df[\"lcp_crux_p75\"] > 2500) & (merged_df[\"lcp_site_scanning\"] <= 2500)\n",
    "]\n",
    "\n",
    "field_lab_difference_cls = merged_df[\n",
    "    (merged_df[\"cls_crux_p75\"] > 0.1) & (merged_df[\"cls_site_scanning\"] <= 0.1)\n",
    "]"
   ],
   "id": "d33996df48ca42bb",
   "outputs": [],
   "execution_count": 15
  },
  {
   "metadata": {
    "ExecuteTime": {
     "end_time": "2024-09-09T18:58:00.316422Z",
     "start_time": "2024-09-09T18:58:00.312212Z"
    }
   },
   "cell_type": "code",
   "source": [
    "print(\n",
    "    \"There are \"\n",
    "    + str(merged_df.shape[0])\n",
    "    + \" rows with LCP and CLS columns in that appear in both the Site Scanning and CrUX reports.\"\n",
    ")\n",
    "\n",
    "print(\n",
    "    \"There are \"\n",
    "    + str(field_lab_difference_lcp.shape[0])\n",
    "    + \" rows where the lab value reports a good LCP but the field data tells a different story. \"\n",
    "    \"This means there is a margin of error of \"\n",
    "    + str(field_lab_difference_lcp.shape[0] / merged_df.shape[0])\n",
    ")"
   ],
   "id": "81a1b57631bb50d7",
   "outputs": [
    {
     "name": "stdout",
     "output_type": "stream",
     "text": [
      "There are 4326 rows with LCP and CLS columns in that appear in both the Site Scanning and CrUX reports.\n",
      "There are 918 rows where the lab value reports a good LCP but the field data tells a different story. This means there is a margin of error of 0.21220527045769763\n"
     ]
    }
   ],
   "execution_count": 16
  },
  {
   "metadata": {
    "ExecuteTime": {
     "end_time": "2024-09-09T18:58:00.389853Z",
     "start_time": "2024-09-09T18:58:00.318041Z"
    }
   },
   "cell_type": "code",
   "source": [
    "data = {\n",
    "    \"Cumulative Layout Shift\": [len(field_lab_difference_cls)],\n",
    "    \"Largest Contentful Paint\": [len(field_lab_difference_lcp)],\n",
    "    \"Total Rows\": [len(merged_df)],\n",
    "}\n",
    "\n",
    "differences = pd.DataFrame(data)\n",
    "\n",
    "\n",
    "cls_percentage = (field_lab_difference_cls.shape[0] / merged_df.shape[0]) * 100\n",
    "lcp_percentage = (field_lab_difference_lcp.shape[0] / merged_df.shape[0]) * 100\n",
    "\n",
    "# Visualization: Bar chart\n",
    "fig, ax = plt.subplots(figsize=(8, 6))\n",
    "percentages = [cls_percentage, lcp_percentage]\n",
    "labels = [\"Cumulative Layout Shift\", \"Largest Contentful Paint\"]\n",
    "ax.bar(labels, percentages)\n",
    "\n",
    "# Add text labels for the bars\n",
    "for i, v in enumerate(percentages):\n",
    "    ax.text(i, v + 1, f\"{v:.2f}%\", ha=\"center\", va=\"bottom\")\n",
    "\n",
    "ax.set_ylim(0, min(max(percentages) + 5, 100))\n",
    "ax.set_title(\"Reported as good in Site Scanning but not in CrUX\")\n",
    "ax.set_ylabel(\"Percentage (%)\")\n",
    "ax.set_xlabel(\"Metrics\")\n",
    "plt.show()"
   ],
   "id": "2a7e95520e3c39a9",
   "outputs": [
    {
     "data": {
      "text/plain": [
       "<Figure size 800x600 with 1 Axes>"
      ],
      "image/png": "[encoded data removed]"
     },
     "metadata": {},
     "output_type": "display_data"
    }
   ],
   "execution_count": 17
  }
 ],
 "metadata": {
  "kernelspec": {
   "display_name": "Python 3",
   "language": "python",
   "name": "python3"
  },
  "language_info": {
   "codemirror_mode": {
    "name": "ipython",
    "version": 2
   },
   "file_extension": ".py",
   "mimetype": "text/x-python",
   "name": "python",
   "nbconvert_exporter": "python",
   "pygments_lexer": "ipython2",
   "version": "2.7.6"
  }
 },
 "nbformat": 4,
 "nbformat_minor": 5
}
